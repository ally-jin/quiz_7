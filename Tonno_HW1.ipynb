{
  "nbformat": 4,
  "nbformat_minor": 0,
  "metadata": {
    "colab": {
      "name": "Tonno_HW1.ipynb",
      "provenance": [],
      "private_outputs": true,
      "collapsed_sections": [],
      "toc_visible": true,
      "include_colab_link": true
    },
    "kernelspec": {
      "name": "python3",
      "display_name": "Python 3"
    }
  },
  "cells": [
    {
      "cell_type": "markdown",
      "metadata": {
        "id": "view-in-github",
        "colab_type": "text"
      },
      "source": [
        "<a href=\"https://colab.research.google.com/github/ally-jin/quiz_7/blob/main/Tonno_HW1.ipynb\" target=\"_parent\"><img src=\"https://colab.research.google.com/assets/colab-badge.svg\" alt=\"Open In Colab\"/></a>"
      ]
    },
    {
      "cell_type": "markdown",
      "metadata": {
        "id": "rvObaKKCzGwK"
      },
      "source": [
        "# Homework 1\n",
        "Complete the exercises working in your group. You may share the notebook with your group members using the share button in the upper right. Be careful with this feature. Although similar to Google Docs in functionality, you will notice that if two people are working on the same cell at the same time, then you may lose your work in that cell. "
      ]
    },
    {
      "cell_type": "markdown",
      "metadata": {
        "id": "RqhpdagcQ28W"
      },
      "source": [
        "## Question 1\n",
        "Introduce yourself and your group members, using multiple markdown features such as embedded pictures, links to your linkedin or webpage, sections and subsections, and more."
      ]
    },
    {
      "cell_type": "markdown",
      "metadata": {
        "id": "UsFxOOvVw5h9"
      },
      "source": [
        "### Member Introduction \n",
        "> Name \n",
        "\n",
        "> Year \n",
        "\n",
        "> Major \n",
        "\n",
        "> Website (If applicable)"
      ]
    },
    {
      "cell_type": "markdown",
      "metadata": {
        "id": "g20rjI6Nstgu"
      },
      "source": [
        "###Member 1: Mina Lee\n",
        "\n",
        "> Year: Senior\n",
        "\n",
        "> Major: Applied Mathematics and Statistics & Chinese\n",
        "\n",
        "> ([Mina's LinkedIn](https://www.linkedin.com/in/mina-lee-4755141a2/))\n",
        "\n",
        "###Member 2: Elizabeth Park\n",
        "> Year: Senior\n",
        "\n",
        "> Major: Quantitative Sciences\n",
        " \n",
        "\n",
        "###Member 3: Hassan Kenawi\n",
        "> Year: Senior\n",
        "\n",
        "> Major: Economics and Quantitative Sciences\n",
        "\n",
        "> [Hassan's LinkedIn](https://www.linkedin.com/in/hassan-kenawi-390541127/)\n",
        "<br/>\n",
        "        \n",
        "          \n",
        "###Member 4: Denny Kim,\n",
        "> Year: Senior\n",
        "\n",
        "> Major: Quantitative Sciences\n",
        "\n",
        "> ([Denny's Linkedin] (https://www.linkedin.com/in/dennykim77/))\n",
        "\n",
        "###Memeber 5: Ally Jin\n",
        "> Year: Junior\n",
        "\n",
        "> Major: Biology and Quantitative Sciences (Economics)\n",
        "\n"
      ]
    },
    {
      "cell_type": "markdown",
      "metadata": {
        "id": "7Wj3r0m90AZu"
      },
      "source": [
        "## Question 2\n",
        "What is the smallest positive integer $x$ for which NumPy fails to compute \n",
        "$$ \\log(e^x)= x$$\n"
      ]
    },
    {
      "cell_type": "markdown",
      "metadata": {
        "id": "KrgeB7sz0cc2"
      },
      "source": [
        "Explain in your own words, using links and citations if needed, why this happens."
      ]
    },
    {
      "cell_type": "markdown",
      "metadata": {
        "id": "6QAd53ztamaf"
      },
      "source": [
        "###Question 2 Answer"
      ]
    },
    {
      "cell_type": "code",
      "metadata": {
        "id": "PcbcTfPgu3EP"
      },
      "source": [
        "import numpy as np"
      ],
      "execution_count": null,
      "outputs": []
    },
    {
      "cell_type": "code",
      "metadata": {
        "id": "Qwb-b31x3mnQ"
      },
      "source": [
        "#try with the smallest positive integer\n",
        "np.log((np.e)**1)"
      ],
      "execution_count": null,
      "outputs": []
    },
    {
      "cell_type": "code",
      "metadata": {
        "id": "6pdlb3wZa1I3"
      },
      "source": [
        "np.log((np.e)**2)"
      ],
      "execution_count": null,
      "outputs": []
    },
    {
      "cell_type": "code",
      "metadata": {
        "id": "AGH8AyUl8J2u"
      },
      "source": [
        "# fails at 710\n",
        "np.log((np.e)**710)"
      ],
      "execution_count": null,
      "outputs": []
    },
    {
      "cell_type": "code",
      "metadata": {
        "id": "htWalazg3t4l"
      },
      "source": [
        "#Continuosly fails\n",
        "np.log((np.e)**711)"
      ],
      "execution_count": null,
      "outputs": []
    },
    {
      "cell_type": "code",
      "metadata": {
        "id": "h3FI_2oWbAQm"
      },
      "source": [
        "np.log((np.e)**712)"
      ],
      "execution_count": null,
      "outputs": []
    },
    {
      "cell_type": "code",
      "metadata": {
        "id": "iEEev23yZknb"
      },
      "source": [
        "#Check if there are any positivie integer (less than 710) that would fail the equation\n",
        "i=1\n",
        "while i<710:\n",
        "  np.log((np.e)**i)\n",
        "  i += 1\n",
        "else:\n",
        "  print (\"the smallest positive integer to fail is not less than 710\")"
      ],
      "execution_count": null,
      "outputs": []
    },
    {
      "cell_type": "markdown",
      "metadata": {
        "id": "LjgSM5dx30F1"
      },
      "source": [
        "As shown from above, numpy can compute \n",
        "$$\n",
        "log(e^x)=x\n",
        "$$ \n",
        "for x= [1,709)\n",
        " \n",
        "The smallest integer to fail the quation is 710.\n",
        "\n",
        "As 710 is the first integer to show the error of OverflowError: (34, 'Numerical result out of range'). \n",
        "\n",
        "<br/>\n",
        "\n",
        "This happens because there is no more space for an extra binary digit(?)\n",
        "\n"
      ]
    },
    {
      "cell_type": "code",
      "metadata": {
        "id": "R4wleFCpRUzo"
      },
      "source": [
        "x=(709)\n",
        "print(type(np.log(np.e**x)))"
      ],
      "execution_count": null,
      "outputs": []
    },
    {
      "cell_type": "code",
      "metadata": {
        "id": "MtrL3AfEJpmy"
      },
      "source": [
        "x=(710)\n",
        "print(type(np.log(np.e**x)))"
      ],
      "execution_count": null,
      "outputs": []
    },
    {
      "cell_type": "markdown",
      "metadata": {
        "id": "Gr1Ix4o5Jsoo"
      },
      "source": [
        "As above, as the equation works with floating-point values, the number input is out of range starting from integer x=710 for floating64."
      ]
    },
    {
      "cell_type": "markdown",
      "metadata": {
        "id": "vsuQ9PQh3VJz"
      },
      "source": [
        "## Question 3\n",
        "Recall in notebook 1, an exercise posed the following question.\n",
        "> \"Harvard's tuition in 1970 was \\$4,070 (not including room, board, and fees). \n",
        "In 2019 it is \\$46,340.  What was the annual rate of increase over that period, treating it as if it had compounded continuously?\n",
        "\n",
        "\n",
        "Did Harvard's tuition have an higher annual rate of increase than other school's? In this question, your group needs to gather data on *five* other schools, compute the annual increase for them, and compare with Harvard's. Intermix with your code an interesting narrative that explains why you are interested in those five schools, what you expected to see in their rate of increase, and what is actually seen after making the calculations. Include links to any data sources you use, and pictures as well as other markdown features to make your response visually appealing."
      ]
    },
    {
      "cell_type": "markdown",
      "metadata": {
        "id": "AF58WOGTIkIU"
      },
      "source": [
        "###Question 3 Solution\n",
        "Since Harvard University is one of the most prestigious universities in US, we’ve decided to compare Harvard with other top ranking universities. According to the [U.S. News’ 2020 Best National University Rankings](https://www.usnews.com/best-colleges/rankings/national-universities), the top 6 universities, including ties, are:\n",
        "1. Princeton University\n",
        "2. Harvard University\n",
        "3. Columbia University (tie)\n",
        "4. Massachusetts Institute of Technology (tie)\n",
        "5. Yale University (tie)\n",
        "6. Stanford University\n",
        "\n",
        "First and foremost, we definitely expect dramatic increase from the 1970s tuition to the current tuition. However, if we consider annual rate of increase, treating as if it had compounded continuously, each universities’ difference may not be significant. In hypothesizing how their annual tuition changed from the 1970s, we can consider various factors such as the financial status of the state the universities are located at. Since diverse factors contribute in determining the tuition cost, addition to such income status, the amount the states invest in higher education and ~ may influence the tuition change. Based on their [median household incomes](https://en.wikipedia.org/wiki/List_of_U.S._states_and_territories_by_income), NJ (Princeton), MA, (Harvard and MIT), CT (Yale), CA (Stanford), and NY (Columbia) are the \"richest\" states in the US, respectively. Based on [state support on higher education](https://sheeomain.wpengine.com/wp-content/uploads/2019/04/SHEEO_SHEF_FY18_Report.pdf), CA, NY, CT, NJ, MA, respectively supported the most. Assuming \"richer\" states have higher tuition and states with more fundings have lower tuition, we expected Stanford and Columbia to have the greatest annual increase and Harvard and MIT to have the lowest annaul increase."
      ]
    },
    {
      "cell_type": "markdown",
      "metadata": {
        "id": "kVlx0h6fKES5"
      },
      "source": [
        "###Harvard University\n",
        "Harvard’s tuition in 1970 was $4,070 (https://www.thecrimson.com/article/2006/10/25/tuition-increase-outpaces-inflation-tuition-hikes/)\n",
        "\n",
        "Harvard’s tuition in 2020 is $49,340. (https://handbook.fas.harvard.edu/book/tuition-and-fees)"
      ]
    },
    {
      "cell_type": "markdown",
      "metadata": {
        "id": "d0ps_lJG3hcV"
      },
      "source": [
        "Using the equatoion below, solve for r. \n",
        "$$V = P e^{rt}$$\n"
      ]
    },
    {
      "cell_type": "markdown",
      "metadata": {
        "id": "eupkxmUtTxL5"
      },
      "source": [
        "$$r = \\frac{\\log(V/P)}{t}$$"
      ]
    },
    {
      "cell_type": "markdown",
      "metadata": {
        "id": "aBrVG3oRUMQ8"
      },
      "source": [
        "The time (```t```) is the number of years from 1970 to the current year 2020. Plug in Harvard's tuition in 1970 and 2020 for ```P``` and ```V```.  "
      ]
    },
    {
      "cell_type": "code",
      "metadata": {
        "id": "1OfrU5NVKD3H"
      },
      "source": [
        "P=4070\n",
        "V=49340\n",
        "t=2020-1970\n"
      ],
      "execution_count": null,
      "outputs": []
    },
    {
      "cell_type": "markdown",
      "metadata": {
        "id": "T4hkh90FVKNV"
      },
      "source": [
        "Now, solve for r and the percentage with the defined variables above. "
      ]
    },
    {
      "cell_type": "code",
      "metadata": {
        "id": "IiMZ8G-lKIca"
      },
      "source": [
        "r=np.log(V/P)/t\n",
        "r"
      ],
      "execution_count": null,
      "outputs": []
    },
    {
      "cell_type": "code",
      "metadata": {
        "id": "_-CHtr5tKKLA"
      },
      "source": [
        "percent =r*100"
      ],
      "execution_count": null,
      "outputs": []
    },
    {
      "cell_type": "code",
      "metadata": {
        "id": "9eRglpgVKLmk"
      },
      "source": [
        "f\"So the annual rate, compounded continuously, is {round(percent,2)}%\""
      ],
      "execution_count": null,
      "outputs": []
    },
    {
      "cell_type": "markdown",
      "metadata": {
        "id": "0MCSlcf1Vtv8"
      },
      "source": [
        "Continue this process for all the colleges being calculated. "
      ]
    },
    {
      "cell_type": "markdown",
      "metadata": {
        "id": "PiSTYHzK6EXy"
      },
      "source": [
        "### 1st College: Princeton\n",
        "Princeton's tuition in 1973 is $3,300. (https://www.nytimes.com/1973/02/19/archives/princeton-raising-tuition-again-and-it-sees-no-end-to-increases.html).\n",
        "\n",
        "Princeton's tuition in 2020 is $50,340.  (https://www.collegedata.com/college/Princeton-University/?tab=profile-money-tab)"
      ]
    },
    {
      "cell_type": "code",
      "metadata": {
        "id": "IM8sAqdX9uW-"
      },
      "source": [
        "P=3300\n",
        "V=50340\n",
        "t=2020-1973"
      ],
      "execution_count": null,
      "outputs": []
    },
    {
      "cell_type": "code",
      "metadata": {
        "id": "_jQs-Ick9ywO"
      },
      "source": [
        "r=np.log(V/P)/t\n",
        "r"
      ],
      "execution_count": null,
      "outputs": []
    },
    {
      "cell_type": "code",
      "metadata": {
        "id": "WowZVkCk95NM"
      },
      "source": [
        "percent =r*100"
      ],
      "execution_count": null,
      "outputs": []
    },
    {
      "cell_type": "code",
      "metadata": {
        "id": "N1yAAXuS960X"
      },
      "source": [
        "f\"So the annual rate, compounded continuously, is {round(percent,2)}%\""
      ],
      "execution_count": null,
      "outputs": []
    },
    {
      "cell_type": "markdown",
      "metadata": {
        "id": "eCbxh_tQ7Bcd"
      },
      "source": [
        "###2nd College: Columbia\n",
        "Columbia's tuition in 1974 was $3,370. ([https://www.nytimes.com/1985/06/01/us/college-cost-has-matched-inflation-since-74.html)\n",
        "\n",
        "Columbia's tuition in 2020 is $54,504. (https://www.sfs.columbia.edu/content/undergraduate-20)"
      ]
    },
    {
      "cell_type": "code",
      "metadata": {
        "id": "UqmqdM9uHOKg"
      },
      "source": [
        "P=3370\n",
        "V=54504\n",
        "t=2020-1974"
      ],
      "execution_count": null,
      "outputs": []
    },
    {
      "cell_type": "code",
      "metadata": {
        "id": "I4y4T4_TJ1dG"
      },
      "source": [
        "r=np.log(V/P)/t\n",
        "r"
      ],
      "execution_count": null,
      "outputs": []
    },
    {
      "cell_type": "code",
      "metadata": {
        "id": "7OXSe9EHJ2zD"
      },
      "source": [
        "percent =r*100"
      ],
      "execution_count": null,
      "outputs": []
    },
    {
      "cell_type": "code",
      "metadata": {
        "id": "cui7RouvJ4fq"
      },
      "source": [
        "f\"So the annual rate, compounded continuously, is {round(percent,2)}%\""
      ],
      "execution_count": null,
      "outputs": []
    },
    {
      "cell_type": "markdown",
      "metadata": {
        "id": "TOHsi9F27E00"
      },
      "source": [
        "###3rd College: MIT\n",
        "MIT tuition in 1970 is $2500. (https://www.nytimes.com/1970/08/23/archives/mit-tuition-raised-150.html)\n",
        "\n",
        "MIT tuition in 2020 is $53,790. (https://web.mit.edu/facts/tuition.html)"
      ]
    },
    {
      "cell_type": "code",
      "metadata": {
        "id": "176we9KE-Uw9"
      },
      "source": [
        "P=2500\n",
        "V=53970\n",
        "t=2020-1970"
      ],
      "execution_count": null,
      "outputs": []
    },
    {
      "cell_type": "code",
      "metadata": {
        "id": "Ft5M8Fgm-YgQ"
      },
      "source": [
        "r=np.log(V/P)/t\n",
        "r"
      ],
      "execution_count": null,
      "outputs": []
    },
    {
      "cell_type": "code",
      "metadata": {
        "id": "qfOu2Yfj-dd5"
      },
      "source": [
        "percent=r*100"
      ],
      "execution_count": null,
      "outputs": []
    },
    {
      "cell_type": "code",
      "metadata": {
        "id": "wVReD7HB-h25"
      },
      "source": [
        "f\"So the annual rate, compounded continuously, is {round(percent,2)}%\""
      ],
      "execution_count": null,
      "outputs": []
    },
    {
      "cell_type": "markdown",
      "metadata": {
        "id": "BXOc_fcn3RAE"
      },
      "source": [
        "###4th College: Yale\n",
        "Yale's tuition in 1970 was $2,550. [[Yale Daily News] (https://yaledailynews.com/blog/2005/04/13/ballooning-tuition-presents-challenges/)].\n",
        "\n",
        "In the 2020-2021 academic year, it is $57,700.  [[Yeal Website] (https://student-accounts.yale.edu/tuition-and-fees)].\n"
      ]
    },
    {
      "cell_type": "code",
      "metadata": {
        "id": "9R24r7uX3Upl"
      },
      "source": [
        "P=2550\n",
        "V=57700\n",
        "t=2020-1970"
      ],
      "execution_count": null,
      "outputs": []
    },
    {
      "cell_type": "code",
      "metadata": {
        "id": "E1JTktG35d-V"
      },
      "source": [
        "r=np.log(V/P)/t\n",
        "r"
      ],
      "execution_count": null,
      "outputs": []
    },
    {
      "cell_type": "code",
      "metadata": {
        "id": "0HigA1TC5kk7"
      },
      "source": [
        "percent = r*100"
      ],
      "execution_count": null,
      "outputs": []
    },
    {
      "cell_type": "code",
      "metadata": {
        "id": "UroeMewk5m0B"
      },
      "source": [
        "f\"So the annual rate, compounded continuously, is {round(percent,2)}%\""
      ],
      "execution_count": null,
      "outputs": []
    },
    {
      "cell_type": "markdown",
      "metadata": {
        "id": "U84xPR257H5g"
      },
      "source": [
        "###5th College: Stanford\n",
        "Stanford's tuition in 1970 was $2,400. (https://www.mercurynews.com/2010/02/09/stanford-university-tuition-room-and-board-pass-the-50000-mark-for-the-first-time/)\n",
        "\n",
        "Stanford's tuition in 2020 is $55,473. (https://news.stanford.edu/?p=31419)"
      ]
    },
    {
      "cell_type": "code",
      "metadata": {
        "id": "T0TNa_W2J-N1"
      },
      "source": [
        "P=2400\n",
        "V=55473\n",
        "t=2020-1970"
      ],
      "execution_count": null,
      "outputs": []
    },
    {
      "cell_type": "code",
      "metadata": {
        "id": "vEISWL0XJ9dB"
      },
      "source": [
        "r=np.log(V/P)/t\n",
        "r"
      ],
      "execution_count": null,
      "outputs": []
    },
    {
      "cell_type": "code",
      "metadata": {
        "id": "tYQTUErYKBjf"
      },
      "source": [
        "percent =r*100"
      ],
      "execution_count": null,
      "outputs": []
    },
    {
      "cell_type": "code",
      "metadata": {
        "id": "agV9Zdn8KC-y"
      },
      "source": [
        "f\"So the annual rate, compounded continuously, is {round(percent,2)}%\""
      ],
      "execution_count": null,
      "outputs": []
    },
    {
      "cell_type": "markdown",
      "metadata": {
        "id": "hSA276I6yMjB"
      },
      "source": [
        "###Among these 6 universities, Harvard University had the lowest annual rate of increase.\n",
        "The order of highest annual rate of increase from the 1970s to 2020 was Stanford University, Yale University, Massachusetts Institute of Technology, Columbia University, Princeton University, and Harvard University."
      ]
    },
    {
      "cell_type": "markdown",
      "metadata": {
        "id": "YMHPjghx-w9f"
      },
      "source": [
        "## Question 4\n",
        "\n",
        "Use Python to display the day of the week each group member was born on, e.g. Monday.\n",
        "\n",
        "Recall, you can use Python to calculate the number of days since a date. For example, the number of days since you were born. Try this, then determine, among your group members, what is the minimum and the max number of days?\n",
        "\n"
      ]
    },
    {
      "cell_type": "markdown",
      "metadata": {
        "id": "dnPeHuxNAWNz"
      },
      "source": [
        "###Question 4 Solution\n",
        "###Member 1:Mina Lee\n",
        "Mina's Birthday is February 23, 1998."
      ]
    },
    {
      "cell_type": "code",
      "metadata": {
        "id": "hHsRLQ1SAZoB"
      },
      "source": [
        "#Find Day of Birth\n",
        "import pandas as pd\n",
        "Mina_BD='February 23, 1998'\n",
        "ML_BD=pd.Timestamp(Mina_BD)\n",
        "ML_BD\n",
        "ML_BD.day_name()"
      ],
      "execution_count": null,
      "outputs": []
    },
    {
      "cell_type": "code",
      "metadata": {
        "id": "PCZRLIoZCJ3p"
      },
      "source": [
        "\n",
        "now=pd.Timestamp.now()\n",
        "now\n",
        "age= now-ML_BD\n",
        "age\n",
        "age.days"
      ],
      "execution_count": null,
      "outputs": []
    },
    {
      "cell_type": "markdown",
      "metadata": {
        "id": "agMQwIedBy8f"
      },
      "source": [
        "Mina is born on Monday and 8231 days old."
      ]
    },
    {
      "cell_type": "markdown",
      "metadata": {
        "id": "qSqjuenYCnNo"
      },
      "source": [
        "###Member 2: Elizabeth Park\n",
        "Elizabeth's Birthday is December 16, 1998."
      ]
    },
    {
      "cell_type": "code",
      "metadata": {
        "id": "ZubYHbVOC08-"
      },
      "source": [
        "Elizabeth_BD='December 16, 1998'\n",
        "EP_BD=pd.Timestamp(Elizabeth_BD)\n",
        "EP_BD\n",
        "EP_BD.day_name()"
      ],
      "execution_count": null,
      "outputs": []
    },
    {
      "cell_type": "code",
      "metadata": {
        "id": "7jb7zlEnDMjg"
      },
      "source": [
        "now=pd.Timestamp.now()\n",
        "now\n",
        "age= now-EP_BD\n",
        "age\n",
        "age.days"
      ],
      "execution_count": null,
      "outputs": []
    },
    {
      "cell_type": "markdown",
      "metadata": {
        "id": "ENnCFzSuDTM_"
      },
      "source": [
        "Elizabeth is born on Wednesday and 7935 days old."
      ]
    },
    {
      "cell_type": "markdown",
      "metadata": {
        "id": "gMrmMOmoSenv"
      },
      "source": [
        "###Member 3: Alhassan Kenawi\n",
        "Alhassan's Birthday is August 17, 1998."
      ]
    },
    {
      "cell_type": "code",
      "metadata": {
        "id": "ckcVE2TYSsC4"
      },
      "source": [
        "Alhassan_BD='August 17, 1998'\n",
        "AK_BD=pd.Timestamp(Alhassan_BD)\n",
        "AK_BD\n",
        "AK_BD.day_name()"
      ],
      "execution_count": null,
      "outputs": []
    },
    {
      "cell_type": "code",
      "metadata": {
        "id": "X-1-JXkbS6iC"
      },
      "source": [
        "now=pd.Timestamp.now()\n",
        "now\n",
        "age= now-AK_BD\n",
        "age\n",
        "age.days"
      ],
      "execution_count": null,
      "outputs": []
    },
    {
      "cell_type": "markdown",
      "metadata": {
        "id": "yGBhKgHuS8hQ"
      },
      "source": [
        "Alhassan is born on Monday and 8056 days old."
      ]
    },
    {
      "cell_type": "markdown",
      "metadata": {
        "id": "iMuano9fTAZM"
      },
      "source": [
        "###Member 4: Denny Kim\n",
        "Denny's Birthday is May 14, 1995\n"
      ]
    },
    {
      "cell_type": "code",
      "metadata": {
        "id": "mjNCxBjBTpRl"
      },
      "source": [
        "Denny_BD='May 14, 1995'\n",
        "DK_BD=pd.Timestamp(Denny_BD)\n",
        "DK_BD\n",
        "DK_BD.day_name()"
      ],
      "execution_count": null,
      "outputs": []
    },
    {
      "cell_type": "code",
      "metadata": {
        "id": "mNcFcknuTpUk"
      },
      "source": [
        "now=pd.Timestamp.now()\n",
        "now\n",
        "age= now-DK_BD\n",
        "age\n",
        "age.days"
      ],
      "execution_count": null,
      "outputs": []
    },
    {
      "cell_type": "markdown",
      "metadata": {
        "id": "gBO68i9ET64L"
      },
      "source": [
        "Denny is born on Sunday and 9247 days old."
      ]
    },
    {
      "cell_type": "markdown",
      "metadata": {
        "id": "A99OimqDp6Lr"
      },
      "source": [
        "###Member 5: Ally Jin\n",
        "Ally's Birthday is March 28, 2000."
      ]
    },
    {
      "cell_type": "code",
      "metadata": {
        "id": "wZFmdcQup6_7"
      },
      "source": [
        "Ally_BD='March 28, 2000'\n",
        "AJ_BD=pd.Timestamp(Ally_BD)\n",
        "AJ_BD\n",
        "AJ_BD.day_name()"
      ],
      "execution_count": null,
      "outputs": []
    },
    {
      "cell_type": "code",
      "metadata": {
        "id": "BL3PI_JzqKkN"
      },
      "source": [
        "now=pd.Timestamp.now()\n",
        "now\n",
        "age= now-AJ_BD\n",
        "age\n",
        "age.days"
      ],
      "execution_count": null,
      "outputs": []
    },
    {
      "cell_type": "markdown",
      "metadata": {
        "id": "gTwM-jHrqK-f"
      },
      "source": [
        "Ally is born on Tuesday and 7467 days old."
      ]
    },
    {
      "cell_type": "markdown",
      "metadata": {
        "id": "6RHCfYtcqkS-"
      },
      "source": [
        "###The minimum number of days is 7467 and the maximum number of days is 9247."
      ]
    },
    {
      "cell_type": "markdown",
      "metadata": {
        "id": "Skt2EJio2oNG"
      },
      "source": [
        "## Question 5\n",
        "### Buying a house\n",
        "Houses are expensive. Either many years of saved income or a loan are necessary to purchase a house.\n",
        "\n",
        "By making calculations based around a simple model, in this problem you will explore the influence that the interest rate on mortgages (i.e. home loans) has on home prices.\n",
        "\n",
        "#### Variables\n",
        " We will denote the interest rate on mortgages with the python variable `rate`, the purchase price of the home with the variable `purchase_price`, the amount of yearly spending/saving that a buyer can afford with the variable `house_spend`, and the amount of property taxes with the `prop_tax=(0.01)*purchase price` (which is approximately correct for Georgia). "
      ]
    },
    {
      "cell_type": "code",
      "metadata": {
        "id": "oE52wq4uPngf",
        "cellView": "both"
      },
      "source": [
        "#@title Interest rate on 30 year mortgage (e.g. if 3%, enter 3)\n",
        "percentage =  2#@param {type:\"number\"}\n",
        "rate = percentage/100"
      ],
      "execution_count": null,
      "outputs": []
    },
    {
      "cell_type": "markdown",
      "metadata": {
        "id": "fCuGVbYAPmv4"
      },
      "source": [
        "\n",
        "\n",
        "#### Model\n",
        "The specifics of loans for home buying vary greatly from one country to the next. For simplicity, we will base this model around home buying in the United States. Similarly, we will assume that the income of the home buyer is the [median income in the US](https://fred.stlouisfed.org/series/MEHOINUSA672N), $63,179, and that the amount `house_spend` is the [maximum usually suggested](https://www.forbes.com/sites/forbesfinancecouncil/2020/04/10/determining-what-percent-of-your-income-you-can-afford-to-spend-on-your-home/#544cda8737b0), namely 1/4 of gross income. Hence the variable `house_spend` we will fix as follows."
      ]
    },
    {
      "cell_type": "code",
      "metadata": {
        "id": "e_hWl1dQPWJw"
      },
      "source": [
        "house_spend=63179/4"
      ],
      "execution_count": null,
      "outputs": []
    },
    {
      "cell_type": "markdown",
      "metadata": {
        "id": "T8t8oL-cPU6M"
      },
      "source": [
        "###Extreme Buyer Profiles\n",
        "Consider the following two extremes in the profiles of home buyers.  \n",
        "\n",
        "#### Saver profile\n",
        "The *saver* insists on buying a house in cash, without a loan. Note, interest rates will impact the saver, as you should assume they put the money they are saving towards a house purchase into a safe liquid investment that earns interest. For example, 10 year US treasuries. For simplicity, you may assume that this interest rate is the same as the rate `r` on mortgages. In reality it is lower, but they are strongly correlated.\n",
        "\n",
        "#### Renter profile\n",
        "The *renter* profile insists on buying a house with as little cash as possible. For example, they may be attempting *interest rate arbitrage*, where one invests whatever cash they have in investments which they hope will have a higher rate of return over the liftime of the home loan than the interest rate `rate` on the home loan. Or, they simply may not have the cash to spend. \n",
        "Typically, to avoid additional fees, it is necessary to make a down payment of 20% of the purchase price of the home, while the minimum down payment allowed is 5%. The loan term is most often 30 years, meaning the amount borrowed is paid back in full over 30 years, although 15 and 10 are also used by some buyers to minimize the amount paid in interest. Since the renter profile is taking borrowing to the extremes, we will assume they use a 30 year loan term.\n",
        "\n",
        "For simplicity, we will assume in the calculations we make below that the renter profile puts 0% down towards the purchase price and borrows the purchase price at the interest rate `rate`.\n"
      ]
    },
    {
      "cell_type": "markdown",
      "metadata": {
        "id": "tr8WPdToQxih"
      },
      "source": [
        "\n",
        "\n",
        "#### Tasks\n",
        "Use the python code we presented to answer the following questions.\n",
        "\n",
        "1. How many years will it take for the saver profile buyer to save enough to purchase the \\$312,196 home that the renter profile can afford?\n",
        "2. Calculate what how many years the saver profile needs to save to be able to buy a house which is priced at the [median price for homes in Atlanta](https://www.zillow.com/atlanta-ga/home-values/).\n",
        "3. What if the interest rate is 2% instead of 3%? What if it is 10% as it was in the 1980's? Repeat the calculation in the previous question with these new interest rate. Give citations for any interest rate figures you use. \n",
        "4. Suppose that a house is currently on the market with an asking price of \\$725000 when the interest rate is 3%. Calculate how large `house_spend` would need to be for the renter profile buyer to be able to purchase this house.\n",
        "5. Suppose interest rates suddenly climb from 3 up to 4%. Redo the calculation in 3. to see what `house_spend` needs to be under this new interest rate.\n",
        "6. Suppose that suddenly interest rates drop to 2% from 4%. What can the renter afford to pay now Should the home sellers raise the asking price from \\$725000 to a higher number?  \n",
        "\n",
        "*Bonus question (1 point)*: When, historically, were the least years required for the saver profile, with a median income for the time, to buy a median priced home? When, historically, was the renter profile able to purchase the most expensive home, assuming the monthly house spend they are making is based on median income for the time as we did in our model.\n",
        " \n"
      ]
    },
    {
      "cell_type": "markdown",
      "metadata": {
        "id": "ZZ3SmmmiY9nz"
      },
      "source": [
        "##Problem 5 Solutions"
      ]
    },
    {
      "cell_type": "markdown",
      "metadata": {
        "id": "wGxqz612rMhz"
      },
      "source": [
        "--------------------------------------------------------------------------------"
      ]
    },
    {
      "cell_type": "markdown",
      "metadata": {
        "id": "mifkhnPsigfe"
      },
      "source": [
        "## 1. How many years will it take for the saver profile buyer to save enough to purchase the $312,196 home that the renter profile can afford?"
      ]
    },
    {
      "cell_type": "markdown",
      "metadata": {
        "id": "cBEGhChqJ2oL"
      },
      "source": [
        "The ```rate```(interest rate) is 3% and ```house_spend``` is 6319/4.\n"
      ]
    },
    {
      "cell_type": "code",
      "metadata": {
        "id": "NruUgqOoigr9"
      },
      "source": [
        "percentage =  3\n",
        "rate = percentage/100\n",
        "house_spend=63179/4"
      ],
      "execution_count": null,
      "outputs": []
    },
    {
      "cell_type": "markdown",
      "metadata": {
        "id": "NgszRrXeKcal"
      },
      "source": [
        "In order to find how many years the saver profile buyer needs to purchase the house, use the *saver profile* formula that we found above: \n",
        "$$\n",
        "saver\\_house\\_price =  house\\_spend*(\\frac{(1 + rate)^{time} - 1}{rate} )\n",
        "$$\n",
        "Rerrange the equation, setting it equal to time. \n",
        "$$\n",
        "\\frac{saver\\_house\\_price*rate}{house\\_spend} + 1  = (1 + rate)^{time}\n",
        "$$\n",
        "\n",
        "$$\n",
        "\\log{(\\frac{saver\\_house\\_price*rate}{house\\_spend} + 1)} = time*\\log{(1 + rate)}\n",
        "$$\n",
        "\n",
        "$$\n",
        "time = \\frac{\\log{(\\frac{saver\\_house\\_price*rate}{house\\_spend} + 1)}}{\\log{(1 + rate)}}\n",
        "$$\n",
        "**note to self: simplify?"
      ]
    },
    {
      "cell_type": "markdown",
      "metadata": {
        "id": "a_eWN8l8PCc5"
      },
      "source": [
        "```saver_house_price``` (the price of the house) is 312196. Using the rearranged formula, find time."
      ]
    },
    {
      "cell_type": "code",
      "metadata": {
        "id": "oJbqHhHiI19P"
      },
      "source": [
        "time = np.log(((312196*rate)/house_spend)+ 1) / np.log(1 + rate)\n",
        "time"
      ],
      "execution_count": null,
      "outputs": []
    },
    {
      "cell_type": "code",
      "metadata": {
        "id": "_ml1Dek6xcH-"
      },
      "source": [
        "saver_house_price =  house_spend*( ((1 + rate)**time - 1) / rate )\n",
        "round(saver_house_price,0)"
      ],
      "execution_count": null,
      "outputs": []
    },
    {
      "cell_type": "markdown",
      "metadata": {
        "id": "mZjeAulSjnJV"
      },
      "source": [
        "It will take about 15.75 years (15 years and 9 months) for saver profile buyer to save enough to purcahse the $312,196 home that the renter profile can afford."
      ]
    },
    {
      "cell_type": "markdown",
      "metadata": {
        "id": "-vNUedkbig0g"
      },
      "source": [
        "## 2. Calculate what how many years the saver profile needs to save to be able to buy a house which is priced at the median price for homes in Atlanta ($299,308). "
      ]
    },
    {
      "cell_type": "markdown",
      "metadata": {
        "id": "rrksmdrfQayT"
      },
      "source": [
        "The ```rate``` and ```house_spend``` are still 3% and 6319/4."
      ]
    },
    {
      "cell_type": "code",
      "metadata": {
        "id": "Z5fMh6HVig85"
      },
      "source": [
        "percentage =  3\n",
        "rate = percentage / 100\n",
        "house_spend = 63179/4"
      ],
      "execution_count": null,
      "outputs": []
    },
    {
      "cell_type": "markdown",
      "metadata": {
        "id": "ap9Fh7AgQwtR"
      },
      "source": [
        "The median price for homes in Atlanta is $299,308."
      ]
    },
    {
      "cell_type": "code",
      "metadata": {
        "id": "jP4ws0kGJl7T"
      },
      "source": [
        "median_price_atl = 299308"
      ],
      "execution_count": null,
      "outputs": []
    },
    {
      "cell_type": "markdown",
      "metadata": {
        "id": "uRW7IDMIQ-05"
      },
      "source": [
        "With the same saver profile time formula from #1, find how many years it will take for the buyer to be able to afford a house priced at $299,308. "
      ]
    },
    {
      "cell_type": "code",
      "metadata": {
        "id": "PGVeT2xNKXl4"
      },
      "source": [
        "time_atl = np.log(((median_price_atl*rate)/house_spend)+ 1) / np.log(1 + rate) ##15.22784\n",
        "time_atl"
      ],
      "execution_count": null,
      "outputs": []
    },
    {
      "cell_type": "code",
      "metadata": {
        "id": "bHQRwcIJisCp"
      },
      "source": [
        "saver_house_price =  house_spend*( ((1 + rate)**time_atl - 1) / rate )\n",
        "round(saver_house_price,0)"
      ],
      "execution_count": null,
      "outputs": []
    },
    {
      "cell_type": "markdown",
      "metadata": {
        "id": "iY8UIOwgq0Vn"
      },
      "source": [
        "Saver profile buyer will need to save about 15.23 years (15 years and 3 month) to be able to buy a house that is priced at $299,308 (the median price for Altanta homes). "
      ]
    },
    {
      "cell_type": "markdown",
      "metadata": {
        "id": "IC5b3HkXisa6"
      },
      "source": [
        "## 3. What if the interest rate is 2% instead of 3%? What if it is 10% as it was in the 1980's? Repeat the calculation in the previous question with these new interest rate. Give citations for any interest rate figures you use. "
      ]
    },
    {
      "cell_type": "markdown",
      "metadata": {
        "id": "BPo0qVQpsgR5"
      },
      "source": [
        "### Interest rate of 2%"
      ]
    },
    {
      "cell_type": "markdown",
      "metadata": {
        "id": "Kw5N8gdRSPiZ"
      },
      "source": [
        "The interest rate (```rate2```) is now 2%. ```house_spend``` is still the same."
      ]
    },
    {
      "cell_type": "code",
      "metadata": {
        "id": "wvsVRpV4MWf_"
      },
      "source": [
        "##interest rate is 2%\n",
        "percentage2 =  2\n",
        "rate2 = percentage2 / 100\n",
        "house_spend = 63179/4"
      ],
      "execution_count": null,
      "outputs": []
    },
    {
      "cell_type": "markdown",
      "metadata": {
        "id": "Uey6U_GvUPJo"
      },
      "source": [
        "#### $312,196 house:"
      ]
    },
    {
      "cell_type": "markdown",
      "metadata": {
        "id": "gOpLZlDOScJV"
      },
      "source": [
        "Again, using the same time formula but with a new interest rate of 2%, calculate the amount of years needed to be able to buy the house marked at $312196."
      ]
    },
    {
      "cell_type": "code",
      "metadata": {
        "id": "jXYiH5_3NR3e"
      },
      "source": [
        "##$312196 house\n",
        "time2 = np.log(((312196*rate2)/house_spend)+ 1) / np.log(1 + rate2) ##16.82206 years\n",
        "time2"
      ],
      "execution_count": null,
      "outputs": []
    },
    {
      "cell_type": "code",
      "metadata": {
        "id": "dLzrHTrR7Uc0"
      },
      "source": [
        "saver_house_price2 =  house_spend*( ((1 + rate2)**time2 - 1) / rate2 )\n",
        "round(saver_house_price2,0)"
      ],
      "execution_count": null,
      "outputs": []
    },
    {
      "cell_type": "markdown",
      "metadata": {
        "id": "eZ5grrO6TTf8"
      },
      "source": [
        "A saver profile buyer would need about 16.82 years (16 years and 10 months) to be able to buy a house priced at $312196."
      ]
    },
    {
      "cell_type": "markdown",
      "metadata": {
        "id": "dZD1BSGFUjtZ"
      },
      "source": [
        "#### Atlanta median price house ($299,308):"
      ]
    },
    {
      "cell_type": "markdown",
      "metadata": {
        "id": "OsnBnbKeU0I6"
      },
      "source": [
        "Using the time formula and 2% interest rate, find the number of years needed to be able to afford the house.  "
      ]
    },
    {
      "cell_type": "code",
      "metadata": {
        "id": "9zCy79-CNtF6"
      },
      "source": [
        "## atl median price house\n",
        "time2_atl = np.log(((median_price_atl*rate2)/house_spend)+ 1) / np.log(1 + rate2) ##16.2279624 years\n",
        "time2_atl"
      ],
      "execution_count": null,
      "outputs": []
    },
    {
      "cell_type": "code",
      "metadata": {
        "id": "OKrmDyt89c00"
      },
      "source": [
        "saver_house_price2_atl =  house_spend*( ((1 + rate2)**time2_atl - 1) / rate2 )\n",
        "round(saver_house_price2_atl,0)"
      ],
      "execution_count": null,
      "outputs": []
    },
    {
      "cell_type": "markdown",
      "metadata": {
        "id": "jwUWXrfNVBDD"
      },
      "source": [
        "It will take about 16.23 years (16 years and 3 months) for a saver profile buyer to be able to buy the atlanta median price house. "
      ]
    },
    {
      "cell_type": "markdown",
      "metadata": {
        "id": "z5AqT8sSEim8"
      },
      "source": [
        "###Interest rate: 10%\n",
        "\n"
      ]
    },
    {
      "cell_type": "markdown",
      "metadata": {
        "id": "jHoRzEcSVWbF"
      },
      "source": [
        "The interest rate (```rate10```) is now 10%."
      ]
    },
    {
      "cell_type": "code",
      "metadata": {
        "id": "tztouORoOQQf"
      },
      "source": [
        "##interest rate is 10%\n",
        "percentage10 =  10\n",
        "rate10 = percentage10 / 100\n",
        "house_spend = 63179/4"
      ],
      "execution_count": null,
      "outputs": []
    },
    {
      "cell_type": "markdown",
      "metadata": {
        "id": "RHdgm3pOVdAn"
      },
      "source": [
        "#### $312,196 house:"
      ]
    },
    {
      "cell_type": "markdown",
      "metadata": {
        "id": "mFxv7Pt6Vm1D"
      },
      "source": [
        "Find the number of years needed to afford the house with the formula when the interest rate is 10%. "
      ]
    },
    {
      "cell_type": "code",
      "metadata": {
        "id": "sT9hYihIOaFu"
      },
      "source": [
        "## $312198 house\n",
        "time10 = np.log(((312196*rate10)/house_spend)+ 1) / np.log(1 + rate10) #11.444 years\n",
        "time10\n"
      ],
      "execution_count": null,
      "outputs": []
    },
    {
      "cell_type": "code",
      "metadata": {
        "id": "N_j-axfv-Mmz"
      },
      "source": [
        "saver_house_price10 =  house_spend*( ((1 + rate10)**time10 - 1) / rate10 )\n",
        "round(saver_house_price10,0)"
      ],
      "execution_count": null,
      "outputs": []
    },
    {
      "cell_type": "markdown",
      "metadata": {
        "id": "BZ5UOAbOWP-8"
      },
      "source": [
        "The buyer will need to save for about 11.44 years (11 years and a little over 5 months) to buy the $312,196 house."
      ]
    },
    {
      "cell_type": "markdown",
      "metadata": {
        "id": "1n0oxSxmWp0K"
      },
      "source": [
        "####Atlanta median price house ($299,308):"
      ]
    },
    {
      "cell_type": "code",
      "metadata": {
        "id": "ukwuK0IUOpI7"
      },
      "source": [
        "## atl median price house\n",
        "time10_atl = np.log(((median_price_atl*rate10)/house_spend)+ 1) / np.log(1 + rate10) #11.1528\n",
        "time10_atl"
      ],
      "execution_count": null,
      "outputs": []
    },
    {
      "cell_type": "code",
      "metadata": {
        "id": "4j5HfJhe-qB5"
      },
      "source": [
        "saver_house_price10_atl =  house_spend*( ((1 + rate10)**time10_atl - 1) / rate10 )\n",
        "round(saver_house_price10_atl,0)"
      ],
      "execution_count": null,
      "outputs": []
    },
    {
      "cell_type": "markdown",
      "metadata": {
        "id": "CUykPKETXGOT"
      },
      "source": [
        "With a 10% interest rate, the saving buyer will need about 11.15 years (11 years and 2 months) to be able to afford the $299,308 house. "
      ]
    },
    {
      "cell_type": "markdown",
      "metadata": {
        "id": "-HYH4BF6Fzrg"
      },
      "source": [
        "###Interest rate: 6.16% in 2008 \n",
        "Source: [FHFA Reports Mortgage Interest Rates, September 2008](https://www.fhfa.gov/Media/PublicAffairs/Pages/FHFA-Reports-Mortgage-Interest-Rates-September-2008.aspx#:~:text=Washington%2C%20D.C.%20%E2%80%93%20The%20Federal%20Housing,to%206.16%20percent%20in%20September.)"
      ]
    },
    {
      "cell_type": "markdown",
      "metadata": {
        "id": "xaQw5nbqXYeC"
      },
      "source": [
        "The interest rate (```rate6```) was 6.16% in 2008. "
      ]
    },
    {
      "cell_type": "code",
      "metadata": {
        "id": "KJbcvz6sGXKi"
      },
      "source": [
        "##interest rate is 6.16%\n",
        "percentage6 =  6.16\n",
        "rate6 = 6.16/ 100\n",
        "house_spend = 63179/4"
      ],
      "execution_count": null,
      "outputs": []
    },
    {
      "cell_type": "markdown",
      "metadata": {
        "id": "twhsz-GDXi4h"
      },
      "source": [
        "####$312,198 house:"
      ]
    },
    {
      "cell_type": "code",
      "metadata": {
        "id": "TTR9onxVGpwj"
      },
      "source": [
        "## $312198 house\n",
        "time6 = np.log(((312196*rate6)/house_spend)+ 1) / np.log(1 + rate6) #13.323 years\n",
        "time6"
      ],
      "execution_count": null,
      "outputs": []
    },
    {
      "cell_type": "markdown",
      "metadata": {
        "id": "YGVK0kJ9XqtV"
      },
      "source": [
        "With an interest rate of 6.16%, the buyer will need to save for about 13.32 years (13 years and 4 months) in order to afford the house priced at $312,198. "
      ]
    },
    {
      "cell_type": "markdown",
      "metadata": {
        "id": "qF93DDFhX6dx"
      },
      "source": [
        "####Atlanta median price house ($299,308):"
      ]
    },
    {
      "cell_type": "code",
      "metadata": {
        "id": "UYiEAPrQGyDe"
      },
      "source": [
        "##atl median price house\n",
        "time6_atl = np.log(((median_price_atl*rate6)/house_spend)+ 1) / np.log(1 + rate6) ##12.9395 years\n",
        "time6_atl"
      ],
      "execution_count": null,
      "outputs": []
    },
    {
      "cell_type": "markdown",
      "metadata": {
        "id": "h8sYXU39YCRh"
      },
      "source": [
        "It will take the saver profile buyer about 12.94 years (12 years and a little over 11 months) to be able to buy the $299,308 house. "
      ]
    },
    {
      "cell_type": "markdown",
      "metadata": {
        "id": "pXifXEkn0CWQ"
      },
      "source": [
        "##4. Suppose that a house is currently on the market with an asking price of $725000 when the interest rate is 3%. Calculate how large house_spend would need to be for the renter profile buyer to be able to purchase this house.\n",
        " "
      ]
    },
    {
      "cell_type": "markdown",
      "metadata": {
        "id": "yRL_cNlsyP2G"
      },
      "source": [
        "The first step that needs to be done is to rearrange the renters formula:\n",
        " <br/>\n",
        "$$\n",
        "Renter\\_House\\_Price = \\frac{Affordable\\_Monthly\\_Payment}{\\frac{c*(1 + c)^n}{(1 + c)^n - 1}}\n",
        "$$\n",
        " <br/>\n",
        " to solve for the affordable_monthly_payment variable like this:\n",
        " <br/>\n",
        "\n",
        "$$\n",
        "Affordable\\_Monthly\\_Payment = Renter\\_House\\_Price*\\frac{c*(1 + c)^n}{(1 + c)^n - 1}\n",
        "$$"
      ]
    },
    {
      "cell_type": "markdown",
      "metadata": {
        "id": "hO5532HvmWHM"
      },
      "source": [
        "The ```renter_house_price``` is 725000. The interest rate is 3%, and again, ```c``` is the monthly interest rate, which is equal to 0.03/12. ```n``` is the number of months of the loan term at rate ``` c ```. The loan term is 30 years, so 360 months. "
      ]
    },
    {
      "cell_type": "code",
      "metadata": {
        "id": "j_slLS_O1IMi"
      },
      "source": [
        "renter_house_price=725000\n",
        "c=0.03/12\n",
        "n=30*12\n"
      ],
      "execution_count": null,
      "outputs": []
    },
    {
      "cell_type": "markdown",
      "metadata": {
        "id": "SNzv1Qb8npxn"
      },
      "source": [
        "Now find ```affordable_monthly_payment``` with the equation solved above."
      ]
    },
    {
      "cell_type": "code",
      "metadata": {
        "id": "6Rjiwk9wn8MU"
      },
      "source": [
        "affordable_monthly_payment = renter_house_price * ( (c*(1 + c)**n)/((1 + c)**n - 1))\n",
        "\n",
        "house_spend = affordable_monthly_payment*12"
      ],
      "execution_count": null,
      "outputs": []
    },
    {
      "cell_type": "markdown",
      "metadata": {
        "id": "ZJ_zwDvsoI9m"
      },
      "source": [
        "Since ```affordable_monthly_payment``` is the monthly payment the buyer can afford, multiply it by 12 to get the house spend. "
      ]
    },
    {
      "cell_type": "code",
      "metadata": {
        "id": "KQDyRH31oyz5"
      },
      "source": [
        "house_spend = affordable_monthly_payment*12"
      ],
      "execution_count": null,
      "outputs": []
    },
    {
      "cell_type": "code",
      "metadata": {
        "id": "58fLbDzg5BoH"
      },
      "source": [
        "f\"The renter profile can afford to buy this house with a house spend of ${round(house_spend,0)}\""
      ],
      "execution_count": null,
      "outputs": []
    },
    {
      "cell_type": "markdown",
      "metadata": {
        "id": "rmBa42C4xF7s"
      },
      "source": [
        "##5. Suppose interest rates suddenly climb from 3 up to 4%. Redo the calculation in 3. to see what house_spend needs to be under this new interest rate."
      ]
    },
    {
      "cell_type": "markdown",
      "metadata": {
        "id": "kUQRuq5Yo3ON"
      },
      "source": [
        "The calculations are similar to the previous question. However, the interest rate is now 4%."
      ]
    },
    {
      "cell_type": "code",
      "metadata": {
        "id": "4lP1oRQlxM7P"
      },
      "source": [
        "renter_house_price=725000\n",
        "c=0.04/12\n",
        "n=30*12\n",
        "\n",
        "affordable_monthly_payment = renter_house_price * ( (c*(1 + c)**n)/((1 + c)**n - 1))\n",
        "\n",
        "house_spend = affordable_monthly_payment*12\n"
      ],
      "execution_count": null,
      "outputs": []
    },
    {
      "cell_type": "code",
      "metadata": {
        "id": "L34Z7gazxRBc"
      },
      "source": [
        "f\"The renter profile can afford to buy this house with a house spend of ${round(house_spend,0)}\""
      ],
      "execution_count": null,
      "outputs": []
    },
    {
      "cell_type": "markdown",
      "metadata": {
        "id": "wiS6fpbVabIb"
      },
      "source": [
        "## 6. Suppose that suddenly interest rates drop to 2% from 4%. What can the renter afford to pay now Should the home sellers raise the asking price from $725000 to a higher number?  "
      ]
    },
    {
      "cell_type": "markdown",
      "metadata": {
        "id": "KXxr0Xu9GdQi"
      },
      "source": [
        "First, we need to calculate `house_spend` when the `rate` is 2% using the same formula we used above. "
      ]
    },
    {
      "cell_type": "code",
      "metadata": {
        "id": "eTHzz_I9aihg"
      },
      "source": [
        "renter_house_price=725000\n",
        "c=0.02/12\n",
        "n=30*12\n",
        "\n",
        "affordable_monthly_payment = renter_house_price * ( (c*(1 + c)**n)/((1 + c)**n - 1))\n",
        "\n",
        "house_spend = affordable_monthly_payment*12\n"
      ],
      "execution_count": null,
      "outputs": []
    },
    {
      "cell_type": "code",
      "metadata": {
        "id": "7z3blaHNJzGW"
      },
      "source": [
        "f\"The renter profile can afford to buy this house with a house spend of ${round(house_spend,0)} when the interest rate is 2%\""
      ],
      "execution_count": null,
      "outputs": []
    },
    {
      "cell_type": "markdown",
      "metadata": {
        "id": "tpnp2JioEAl_"
      },
      "source": [
        "Yes, the home sellers should raise the asking price from 725,000 USD because the  interest rate decreased to 2% which makes the price relatively more affordable. Thus, there would be an increase in competition for buyers (depending on housing prices in the neighborhoud). Thus, home sellers could raise the housing prices. Also, since the `house_spend` at 2% interest is less than what it was for 3% and 4%, more buyers can enter the market for a house priced at 725,000 USD giving more reason for house-sellers to increase the asking price. "
      ]
    }
  ]
}